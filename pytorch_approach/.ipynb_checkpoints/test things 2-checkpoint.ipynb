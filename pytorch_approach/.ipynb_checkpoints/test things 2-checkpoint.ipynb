{
 "cells": [
  {
   "cell_type": "code",
   "execution_count": 1,
   "metadata": {},
   "outputs": [],
   "source": [
    "from dataset import omtfDataset\n",
    "from net import omtfNet\n",
    "from model import omtfModel\n",
    "\n",
    "from torch.utils.data import DataLoader"
   ]
  },
  {
   "cell_type": "code",
   "execution_count": 2,
   "metadata": {},
   "outputs": [],
   "source": [
    "import torch\n",
    "import numpy as np\n",
    "path='../../../npz_small/small-dataset.npz'\n",
    "# path='../../../npz_original/orig-dataset.npz'"
   ]
  },
  {
   "cell_type": "code",
   "execution_count": 12,
   "metadata": {},
   "outputs": [],
   "source": [
    "ds = omtfDataset(data_path=path, mode='TRAIN')\n",
    "ds2 = omtfDataset(data_path=path, mode='VALID')\n",
    "ds3 = omtfDataset(data_path=path, mode='TEST')\n"
   ]
  },
  {
   "cell_type": "code",
   "execution_count": 13,
   "metadata": {},
   "outputs": [],
   "source": [
    "dltr = DataLoader(ds, batch_size=256, shuffle=True)\n",
    "dlval = DataLoader(ds2, batch_size=32)\n",
    "dlte = DataLoader(ds3, batch_size=32)\n"
   ]
  },
  {
   "cell_type": "code",
   "execution_count": 14,
   "metadata": {},
   "outputs": [],
   "source": [
    "dataloaders = {'VALID': dlval, 'TRAIN': dltr, 'TEST': dlte}"
   ]
  },
  {
   "cell_type": "code",
   "execution_count": 15,
   "metadata": {},
   "outputs": [],
   "source": [
    "# net = torch.nn.Sequential(torch.nn.Linear(36,512), torch.nn.ReLU(), torch.nn.Linear(512,1024), torch.nn.ReLU(), \n",
    "#                           torch.nn.Dropout(), torch.nn.Linear(1024, 32), torch.nn.ReLU(), torch.nn.Linear(32,1))"
   ]
  },
  {
   "cell_type": "code",
   "execution_count": 16,
   "metadata": {},
   "outputs": [],
   "source": [
    "# optimizer = torch.optim.Adam(net.parameters(), lr=0.001)"
   ]
  },
  {
   "cell_type": "code",
   "execution_count": 17,
   "metadata": {},
   "outputs": [],
   "source": [
    "# loss_fn = torch.nn.MSELoss()\n",
    "# net.cuda()"
   ]
  },
  {
   "cell_type": "code",
   "execution_count": 18,
   "metadata": {},
   "outputs": [],
   "source": [
    "# for i in range(100):\n",
    "#     phase_loss =0 \n",
    "#     for ex in dataloaders['TRAIN']:\n",
    "#         X, y_gt = ex\n",
    "#         X = X.view(-1,36)\n",
    "#         X = X.cuda()\n",
    "#         y_gt = y_gt.cuda()\n",
    "#         optimizer.zero_grad()\n",
    "#         y_pred = net(X)\n",
    "#         loss = loss_fn(y_pred, y_gt)\n",
    "#         phase_loss = phase_loss + loss.item()\n",
    "#         loss.backward()\n",
    "#         optimizer.step()\n",
    "#     print(phase_loss/len(dataloaders['TRAIN']))"
   ]
  },
  {
   "cell_type": "code",
   "execution_count": 19,
   "metadata": {},
   "outputs": [],
   "source": [
    "import sklearn"
   ]
  },
  {
   "cell_type": "code",
   "execution_count": 20,
   "metadata": {},
   "outputs": [
    {
     "name": "stdout",
     "output_type": "stream",
     "text": [
      "Epoch 1\n",
      "TRAIN LOSS 21.487825665408618, r2 -0.48869142723722026\n",
      "VALID LOSS 19.141759663412017, r2 -0.3888694604138816\n",
      "Epoch 2\n",
      "TRAIN LOSS 21.199982018666724, r2 -0.4614758252136266\n",
      "VALID LOSS 19.35616991617908, r2 -0.4330917431680483\n",
      "Epoch 3\n",
      "TRAIN LOSS 20.567614735642525, r2 -0.4029644307503557\n",
      "VALID LOSS 15.869338760637257, r2 -0.03802114576771487\n",
      "Epoch 4\n",
      "TRAIN LOSS 19.79032884362626, r2 -0.3293429601588407\n",
      "VALID LOSS 16.30564239906938, r2 -0.11294072515705755\n",
      "Epoch 5\n",
      "TRAIN LOSS 19.249480937278435, r2 -0.28847010693508857\n",
      "VALID LOSS 16.229698295462622, r2 -0.08367642562277933\n",
      "Epoch 6\n",
      "TRAIN LOSS 19.12739616289531, r2 -0.2876606490031186\n",
      "VALID LOSS 16.596759456477752, r2 -0.10245981481432298\n",
      "Epoch 7\n",
      "TRAIN LOSS 18.936714347421308, r2 -0.2738363364132619\n",
      "VALID LOSS 15.95727578581196, r2 -0.06356307787369597\n",
      "Epoch 8\n",
      "TRAIN LOSS 18.722705088576227, r2 -0.2622440805403041\n",
      "VALID LOSS 16.293382363776637, r2 -0.07892872965017572\n",
      "Epoch 9\n",
      "TRAIN LOSS 18.62015338531912, r2 -0.2503911662115341\n",
      "VALID LOSS 15.453024348167524, r2 -0.014327734965054795\n",
      "Epoch 10\n",
      "TRAIN LOSS 18.56807758122274, r2 -0.2536339593863093\n",
      "VALID LOSS 14.224910448675287, r2 0.11000356452024174\n",
      "Snapshot successfully created!\n"
     ]
    }
   ],
   "source": [
    "mdl = omtfModel(dataloaders=dataloaders)\n",
    "mdl.train(epochs=10, init_lr=0.001)"
   ]
  },
  {
   "cell_type": "code",
   "execution_count": 21,
   "metadata": {},
   "outputs": [
    {
     "name": "stdout",
     "output_type": "stream",
     "text": [
      "TEST LOSS 2074.7779383659363, r2 1.0\n"
     ]
    }
   ],
   "source": [
    "mdl."
   ]
  },
  {
   "cell_type": "code",
   "execution_count": 12,
   "metadata": {},
   "outputs": [],
   "source": [
    "loaded_net=torch.load('../omtfNet/model.pth')"
   ]
  },
  {
   "cell_type": "code",
   "execution_count": null,
   "metadata": {},
   "outputs": [],
   "source": []
  },
  {
   "cell_type": "code",
   "execution_count": 13,
   "metadata": {},
   "outputs": [
    {
     "data": {
      "text/plain": [
       "omtfNet(\n",
       "  (conv1): ConvBlock(\n",
       "    (conv): Sequential(\n",
       "      (0): Conv2d(1, 32, kernel_size=(6, 2), stride=(1, 1), padding=(2, 0))\n",
       "      (1): BatchNorm2d(32, eps=1e-05, momentum=0.1, affine=True, track_running_stats=True)\n",
       "      (2): ELU(alpha=1.0)\n",
       "    )\n",
       "  )\n",
       "  (conv2): ConvBlock(\n",
       "    (conv): Sequential(\n",
       "      (0): Conv2d(32, 128, kernel_size=(3, 1), stride=(1, 1), padding=(1, 0))\n",
       "      (1): BatchNorm2d(128, eps=1e-05, momentum=0.1, affine=True, track_running_stats=True)\n",
       "      (2): ELU(alpha=1.0)\n",
       "    )\n",
       "  )\n",
       "  (conv3): ConvBlock(\n",
       "    (conv): Sequential(\n",
       "      (0): Conv2d(128, 512, kernel_size=(2, 1), stride=(1, 1))\n",
       "      (1): BatchNorm2d(512, eps=1e-05, momentum=0.1, affine=True, track_running_stats=True)\n",
       "      (2): ELU(alpha=1.0)\n",
       "    )\n",
       "  )\n",
       "  (conv4): ConvBlock(\n",
       "    (conv): Sequential(\n",
       "      (0): Conv2d(512, 1024, kernel_size=(1, 1), stride=(1, 1))\n",
       "      (1): BatchNorm2d(1024, eps=1e-05, momentum=0.1, affine=True, track_running_stats=True)\n",
       "      (2): ELU(alpha=1.0)\n",
       "    )\n",
       "  )\n",
       "  (dense0): DenseBlock(\n",
       "    (dense): Linear(in_features=1024, out_features=512, bias=True)\n",
       "  )\n",
       "  (dense1): DenseBlock(\n",
       "    (dense): Linear(in_features=512, out_features=256, bias=True)\n",
       "  )\n",
       "  (dense2): DenseBlock(\n",
       "    (dense): Sequential(\n",
       "      (0): Linear(in_features=256, out_features=1, bias=True)\n",
       "      (1): ELU(alpha=1.0)\n",
       "      (2): Dropout(p=0.5)\n",
       "    )\n",
       "  )\n",
       ")"
      ]
     },
     "execution_count": 13,
     "metadata": {},
     "output_type": "execute_result"
    }
   ],
   "source": [
    "loaded_net"
   ]
  },
  {
   "cell_type": "code",
   "execution_count": 7,
   "metadata": {},
   "outputs": [],
   "source": [
    "net = omtfNet().cuda()"
   ]
  },
  {
   "cell_type": "code",
   "execution_count": 14,
   "metadata": {},
   "outputs": [],
   "source": [
    "optimizer = torch.optim.SGD(net.parameters(), lr=0.001)"
   ]
  },
  {
   "cell_type": "code",
   "execution_count": 15,
   "metadata": {},
   "outputs": [],
   "source": [
    "optimizer.step()"
   ]
  },
  {
   "cell_type": "code",
   "execution_count": 16,
   "metadata": {},
   "outputs": [
    {
     "name": "stdout",
     "output_type": "stream",
     "text": [
      "None\n",
      "None\n",
      "None\n",
      "None\n",
      "None\n",
      "None\n"
     ]
    }
   ],
   "source": [
    "for p in net.parameters():\n",
    "    print(p.grad)"
   ]
  },
  {
   "cell_type": "code",
   "execution_count": 9,
   "metadata": {},
   "outputs": [
    {
     "name": "stdout",
     "output_type": "stream",
     "text": [
      "None\n",
      "None\n",
      "None\n"
     ]
    }
   ],
   "source": [
    "for p in net.named_children():\n",
    "    print(p[1].linear.weight.grad)"
   ]
  },
  {
   "cell_type": "code",
   "execution_count": 15,
   "metadata": {},
   "outputs": [
    {
     "name": "stdout",
     "output_type": "stream",
     "text": [
      "omtfNet(\n",
      "  (dense0): DenseBlock(\n",
      "    (dense): Sequential(\n",
      "      (0): Linear(in_features=36, out_features=512, bias=True)\n",
      "      (1): ReLU()\n",
      "    )\n",
      "  )\n",
      "  (dense1): DenseBlock(\n",
      "    (dense): Sequential(\n",
      "      (0): Linear(in_features=512, out_features=256, bias=True)\n",
      "      (1): ReLU()\n",
      "    )\n",
      "  )\n",
      "  (dense2): DenseBlock(\n",
      "    (dense): Sequential(\n",
      "      (0): Linear(in_features=256, out_features=1, bias=True)\n",
      "      (1): ReLU()\n",
      "    )\n",
      "  )\n",
      ")\n",
      "DenseBlock(\n",
      "  (dense): Sequential(\n",
      "    (0): Linear(in_features=36, out_features=512, bias=True)\n",
      "    (1): ReLU()\n",
      "  )\n",
      ")\n",
      "Sequential(\n",
      "  (0): Linear(in_features=36, out_features=512, bias=True)\n",
      "  (1): ReLU()\n",
      ")\n",
      "Linear(in_features=36, out_features=512, bias=True)\n",
      "ReLU()\n",
      "DenseBlock(\n",
      "  (dense): Sequential(\n",
      "    (0): Linear(in_features=512, out_features=256, bias=True)\n",
      "    (1): ReLU()\n",
      "  )\n",
      ")\n",
      "Sequential(\n",
      "  (0): Linear(in_features=512, out_features=256, bias=True)\n",
      "  (1): ReLU()\n",
      ")\n",
      "Linear(in_features=512, out_features=256, bias=True)\n",
      "ReLU()\n",
      "DenseBlock(\n",
      "  (dense): Sequential(\n",
      "    (0): Linear(in_features=256, out_features=1, bias=True)\n",
      "    (1): ReLU()\n",
      "  )\n",
      ")\n",
      "Sequential(\n",
      "  (0): Linear(in_features=256, out_features=1, bias=True)\n",
      "  (1): ReLU()\n",
      ")\n",
      "Linear(in_features=256, out_features=1, bias=True)\n",
      "ReLU()\n"
     ]
    }
   ],
   "source": [
    "for p in net.get():\n",
    "    print(p)"
   ]
  },
  {
   "cell_type": "code",
   "execution_count": 1,
   "metadata": {},
   "outputs": [
    {
     "name": "stdout",
     "output_type": "stream",
     "text": [
      "Sun Oct 13 19:11:55 2019       \r\n",
      "+-----------------------------------------------------------------------------+\r\n",
      "| NVIDIA-SMI 415.27       Driver Version: 415.27       CUDA Version: 10.0     |\r\n",
      "|-------------------------------+----------------------+----------------------+\r\n",
      "| GPU  Name        Persistence-M| Bus-Id        Disp.A | Volatile Uncorr. ECC |\r\n",
      "| Fan  Temp  Perf  Pwr:Usage/Cap|         Memory-Usage | GPU-Util  Compute M. |\r\n",
      "|===============================+======================+======================|\r\n",
      "|   0  GeForce GTX 960M    Off  | 00000000:02:00.0 Off |                  N/A |\r\n",
      "| N/A   59C    P0    N/A /  N/A |    668MiB /  4046MiB |      1%      Default |\r\n",
      "+-------------------------------+----------------------+----------------------+\r\n",
      "                                                                               \r\n",
      "+-----------------------------------------------------------------------------+\r\n",
      "| Processes:                                                       GPU Memory |\r\n",
      "|  GPU       PID   Type   Process name                             Usage      |\r\n",
      "|=============================================================================|\r\n",
      "|    0      1835      G   /usr/lib/xorg/Xorg                           215MiB |\r\n",
      "|    0      1995      G   /usr/bin/gnome-shell                         101MiB |\r\n",
      "|    0      2593      G   ...uest-channel-token=13615059584615248338   249MiB |\r\n",
      "|    0     11211      G   ...-token=17E1C5645F885DA175433BAAE533A076    60MiB |\r\n",
      "|    0     16169      G   ...quest-channel-token=5235495120577683016    37MiB |\r\n",
      "+-----------------------------------------------------------------------------+\r\n"
     ]
    }
   ],
   "source": [
    "! nvidia-smi"
   ]
  },
  {
   "cell_type": "code",
   "execution_count": null,
   "metadata": {},
   "outputs": [],
   "source": []
  },
  {
   "cell_type": "code",
   "execution_count": null,
   "metadata": {},
   "outputs": [],
   "source": []
  }
 ],
 "metadata": {
  "kernelspec": {
   "display_name": "Python 3",
   "language": "python",
   "name": "python3"
  },
  "language_info": {
   "codemirror_mode": {
    "name": "ipython",
    "version": 3
   },
   "file_extension": ".py",
   "mimetype": "text/x-python",
   "name": "python",
   "nbconvert_exporter": "python",
   "pygments_lexer": "ipython3",
   "version": "3.6.8"
  },
  "latex_envs": {
   "LaTeX_envs_menu_present": true,
   "autoclose": false,
   "autocomplete": true,
   "bibliofile": "biblio.bib",
   "cite_by": "apalike",
   "current_citInitial": 1,
   "eqLabelWithNumbers": true,
   "eqNumInitial": 1,
   "hotkeys": {
    "equation": "Ctrl-E",
    "itemize": "Ctrl-I"
   },
   "labels_anchors": false,
   "latex_user_defs": false,
   "report_style_numbering": false,
   "user_envs_cfg": false
  },
  "toc": {
   "base_numbering": 1,
   "nav_menu": {},
   "number_sections": true,
   "sideBar": true,
   "skip_h1_title": false,
   "title_cell": "Table of Contents",
   "title_sidebar": "Contents",
   "toc_cell": false,
   "toc_position": {},
   "toc_section_display": true,
   "toc_window_display": false
  }
 },
 "nbformat": 4,
 "nbformat_minor": 2
}
