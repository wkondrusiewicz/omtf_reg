{
 "cells": [
  {
   "cell_type": "code",
   "execution_count": 1,
   "metadata": {},
   "outputs": [],
   "source": [
    "from dataset import omtfDataset\n",
    "from net import omtfNet\n",
    "from model import omtfModel\n",
    "\n",
    "from torch.utils.data import DataLoader"
   ]
  },
  {
   "cell_type": "code",
   "execution_count": 2,
   "metadata": {},
   "outputs": [],
   "source": [
    "import torch\n",
    "import numpy as np\n",
    "path='../../../npz_small/small-dataset.npz'\n",
    "# path='../../../npz_original/orig-dataset.npz'"
   ]
  },
  {
   "cell_type": "code",
   "execution_count": 3,
   "metadata": {},
   "outputs": [],
   "source": [
    "ds = omtfDataset(data_path=path, mode='TRAIN')\n",
    "ds2 = omtfDataset(data_path=path, mode='VALID')\n",
    "ds3 = omtfDataset(data_path=path, mode='TEST')\n"
   ]
  },
  {
   "cell_type": "code",
   "execution_count": 4,
   "metadata": {},
   "outputs": [],
   "source": [
    "dltr = DataLoader(ds, batch_size=256, shuffle=True)\n",
    "dlval = DataLoader(ds2, batch_size=32)\n",
    "dlte = DataLoader(ds3, batch_size=32)\n"
   ]
  },
  {
   "cell_type": "code",
   "execution_count": 5,
   "metadata": {},
   "outputs": [],
   "source": [
    "dataloaders = {'VALID': dlval, 'TRAIN': dltr, 'TEST': dlte}"
   ]
  },
  {
   "cell_type": "code",
   "execution_count": 6,
   "metadata": {},
   "outputs": [],
   "source": [
    "# net = torch.nn.Sequential(torch.nn.Linear(36,512), torch.nn.ReLU(), torch.nn.Linear(512,1024), torch.nn.ReLU(), \n",
    "#                           torch.nn.Dropout(), torch.nn.Linear(1024, 32), torch.nn.ReLU(), torch.nn.Linear(32,1))"
   ]
  },
  {
   "cell_type": "code",
   "execution_count": 7,
   "metadata": {},
   "outputs": [],
   "source": [
    "# optimizer = torch.optim.Adam(net.parameters(), lr=0.001)"
   ]
  },
  {
   "cell_type": "code",
   "execution_count": 8,
   "metadata": {},
   "outputs": [],
   "source": [
    "# loss_fn = torch.nn.MSELoss()\n",
    "# net.cuda()"
   ]
  },
  {
   "cell_type": "code",
   "execution_count": 9,
   "metadata": {},
   "outputs": [],
   "source": [
    "# for i in range(100):\n",
    "#     phase_loss =0 \n",
    "#     for ex in dataloaders['TRAIN']:\n",
    "#         X, y_gt = ex\n",
    "#         X = X.view(-1,36)\n",
    "#         X = X.cuda()\n",
    "#         y_gt = y_gt.cuda()\n",
    "#         optimizer.zero_grad()\n",
    "#         y_pred = net(X)\n",
    "#         loss = loss_fn(y_pred, y_gt)\n",
    "#         phase_loss = phase_loss + loss.item()\n",
    "#         loss.backward()\n",
    "#         optimizer.step()\n",
    "#     print(phase_loss/len(dataloaders['TRAIN']))"
   ]
  },
  {
   "cell_type": "code",
   "execution_count": 10,
   "metadata": {},
   "outputs": [],
   "source": [
    "import sklearn"
   ]
  },
  {
   "cell_type": "code",
   "execution_count": 8,
   "metadata": {},
   "outputs": [
    {
     "name": "stdout",
     "output_type": "stream",
     "text": [
      "Epoch 1\n",
      "TRAIN LOSS 21.472864589952444, r2 -0.483891614442155\n",
      "VALID LOSS 18.649470806121826, r2 -0.31685480876244987\n",
      "Epoch 2\n",
      "TRAIN LOSS 21.117470555762722, r2 -0.4489917887132373\n",
      "VALID LOSS 18.295394401027732, r2 -0.3182838295014623\n",
      "Epoch 3\n",
      "TRAIN LOSS 20.474829524837126, r2 -0.38919493616763234\n",
      "VALID LOSS 16.793784164402584, r2 -0.14928070684876404\n",
      "Epoch 4\n",
      "TRAIN LOSS 20.000689603204595, r2 -0.3424076813394976\n",
      "VALID LOSS 16.5127849807478, r2 -0.11372208707022557\n",
      "Epoch 5\n",
      "TRAIN LOSS 19.831497584303765, r2 -0.33599790945449026\n",
      "VALID LOSS 15.298331100646763, r2 -0.004704790024812944\n",
      "Epoch 6\n",
      "TRAIN LOSS 19.626989482200308, r2 -0.3261434391960476\n",
      "VALID LOSS 15.981286045623152, r2 -0.04963945698444783\n",
      "Epoch 7\n",
      "TRAIN LOSS 19.478146121926503, r2 -0.3228178200314389\n",
      "VALID LOSS 15.000895810453859, r2 0.016354252105558187\n",
      "Epoch 8\n",
      "TRAIN LOSS 19.412057787751497, r2 -0.3107536316247086\n",
      "VALID LOSS 15.330060459163091, r2 -0.018199943634204185\n",
      "Epoch 9\n",
      "TRAIN LOSS 19.241974814950602, r2 -0.29947201418799896\n",
      "VALID LOSS 16.24275177798859, r2 -0.08901434258241436\n",
      "Epoch 10\n",
      "TRAIN LOSS 19.129606380201366, r2 -0.29161525403343513\n",
      "VALID LOSS 15.54883194949529, r2 -0.02455665477130431\n",
      "Snapshot successfully created!\n"
     ]
    }
   ],
   "source": [
    "mdl = omtfModel(dataloaders=dataloaders)\n",
    "mdl.train(epochs=10, init_lr=0.001)"
   ]
  },
  {
   "cell_type": "code",
   "execution_count": 16,
   "metadata": {},
   "outputs": [
    {
     "data": {
      "text/plain": [
       "4648"
      ]
     },
     "execution_count": 16,
     "metadata": {},
     "output_type": "execute_result"
    }
   ],
   "source": [
    "len(mdl.labels['VALID'][1])"
   ]
  },
  {
   "cell_type": "code",
   "execution_count": null,
   "metadata": {},
   "outputs": [],
   "source": []
  },
  {
   "cell_type": "code",
   "execution_count": 7,
   "metadata": {},
   "outputs": [
    {
     "name": "stdout",
     "output_type": "stream",
     "text": [
      "TEST LOSS 2347.7341537475586, r2 -0.07075679145027758\n"
     ]
    }
   ],
   "source": [
    "mdl.predict()"
   ]
  },
  {
   "cell_type": "code",
   "execution_count": 12,
   "metadata": {},
   "outputs": [],
   "source": [
    "loaded_net=torch.load('../omtfNet/model.pth')"
   ]
  },
  {
   "cell_type": "code",
   "execution_count": null,
   "metadata": {},
   "outputs": [],
   "source": []
  },
  {
   "cell_type": "code",
   "execution_count": 13,
   "metadata": {},
   "outputs": [
    {
     "data": {
      "text/plain": [
       "omtfNet(\n",
       "  (conv1): ConvBlock(\n",
       "    (conv): Sequential(\n",
       "      (0): Conv2d(1, 32, kernel_size=(6, 2), stride=(1, 1), padding=(2, 0))\n",
       "      (1): BatchNorm2d(32, eps=1e-05, momentum=0.1, affine=True, track_running_stats=True)\n",
       "      (2): ELU(alpha=1.0)\n",
       "    )\n",
       "  )\n",
       "  (conv2): ConvBlock(\n",
       "    (conv): Sequential(\n",
       "      (0): Conv2d(32, 128, kernel_size=(3, 1), stride=(1, 1), padding=(1, 0))\n",
       "      (1): BatchNorm2d(128, eps=1e-05, momentum=0.1, affine=True, track_running_stats=True)\n",
       "      (2): ELU(alpha=1.0)\n",
       "    )\n",
       "  )\n",
       "  (conv3): ConvBlock(\n",
       "    (conv): Sequential(\n",
       "      (0): Conv2d(128, 512, kernel_size=(2, 1), stride=(1, 1))\n",
       "      (1): BatchNorm2d(512, eps=1e-05, momentum=0.1, affine=True, track_running_stats=True)\n",
       "      (2): ELU(alpha=1.0)\n",
       "    )\n",
       "  )\n",
       "  (conv4): ConvBlock(\n",
       "    (conv): Sequential(\n",
       "      (0): Conv2d(512, 1024, kernel_size=(1, 1), stride=(1, 1))\n",
       "      (1): BatchNorm2d(1024, eps=1e-05, momentum=0.1, affine=True, track_running_stats=True)\n",
       "      (2): ELU(alpha=1.0)\n",
       "    )\n",
       "  )\n",
       "  (dense0): DenseBlock(\n",
       "    (dense): Linear(in_features=1024, out_features=512, bias=True)\n",
       "  )\n",
       "  (dense1): DenseBlock(\n",
       "    (dense): Linear(in_features=512, out_features=256, bias=True)\n",
       "  )\n",
       "  (dense2): DenseBlock(\n",
       "    (dense): Sequential(\n",
       "      (0): Linear(in_features=256, out_features=1, bias=True)\n",
       "      (1): ELU(alpha=1.0)\n",
       "      (2): Dropout(p=0.5)\n",
       "    )\n",
       "  )\n",
       ")"
      ]
     },
     "execution_count": 13,
     "metadata": {},
     "output_type": "execute_result"
    }
   ],
   "source": [
    "loaded_net"
   ]
  },
  {
   "cell_type": "code",
   "execution_count": 7,
   "metadata": {},
   "outputs": [],
   "source": [
    "net = omtfNet().cuda()"
   ]
  },
  {
   "cell_type": "code",
   "execution_count": 14,
   "metadata": {},
   "outputs": [],
   "source": [
    "optimizer = torch.optim.SGD(net.parameters(), lr=0.001)"
   ]
  },
  {
   "cell_type": "code",
   "execution_count": 15,
   "metadata": {},
   "outputs": [],
   "source": [
    "optimizer.step()"
   ]
  },
  {
   "cell_type": "code",
   "execution_count": 16,
   "metadata": {},
   "outputs": [
    {
     "name": "stdout",
     "output_type": "stream",
     "text": [
      "None\n",
      "None\n",
      "None\n",
      "None\n",
      "None\n",
      "None\n"
     ]
    }
   ],
   "source": [
    "for p in net.parameters():\n",
    "    print(p.grad)"
   ]
  },
  {
   "cell_type": "code",
   "execution_count": 9,
   "metadata": {},
   "outputs": [
    {
     "name": "stdout",
     "output_type": "stream",
     "text": [
      "None\n",
      "None\n",
      "None\n"
     ]
    }
   ],
   "source": [
    "for p in net.named_children():\n",
    "    print(p[1].linear.weight.grad)"
   ]
  },
  {
   "cell_type": "code",
   "execution_count": 15,
   "metadata": {},
   "outputs": [
    {
     "name": "stdout",
     "output_type": "stream",
     "text": [
      "omtfNet(\n",
      "  (dense0): DenseBlock(\n",
      "    (dense): Sequential(\n",
      "      (0): Linear(in_features=36, out_features=512, bias=True)\n",
      "      (1): ReLU()\n",
      "    )\n",
      "  )\n",
      "  (dense1): DenseBlock(\n",
      "    (dense): Sequential(\n",
      "      (0): Linear(in_features=512, out_features=256, bias=True)\n",
      "      (1): ReLU()\n",
      "    )\n",
      "  )\n",
      "  (dense2): DenseBlock(\n",
      "    (dense): Sequential(\n",
      "      (0): Linear(in_features=256, out_features=1, bias=True)\n",
      "      (1): ReLU()\n",
      "    )\n",
      "  )\n",
      ")\n",
      "DenseBlock(\n",
      "  (dense): Sequential(\n",
      "    (0): Linear(in_features=36, out_features=512, bias=True)\n",
      "    (1): ReLU()\n",
      "  )\n",
      ")\n",
      "Sequential(\n",
      "  (0): Linear(in_features=36, out_features=512, bias=True)\n",
      "  (1): ReLU()\n",
      ")\n",
      "Linear(in_features=36, out_features=512, bias=True)\n",
      "ReLU()\n",
      "DenseBlock(\n",
      "  (dense): Sequential(\n",
      "    (0): Linear(in_features=512, out_features=256, bias=True)\n",
      "    (1): ReLU()\n",
      "  )\n",
      ")\n",
      "Sequential(\n",
      "  (0): Linear(in_features=512, out_features=256, bias=True)\n",
      "  (1): ReLU()\n",
      ")\n",
      "Linear(in_features=512, out_features=256, bias=True)\n",
      "ReLU()\n",
      "DenseBlock(\n",
      "  (dense): Sequential(\n",
      "    (0): Linear(in_features=256, out_features=1, bias=True)\n",
      "    (1): ReLU()\n",
      "  )\n",
      ")\n",
      "Sequential(\n",
      "  (0): Linear(in_features=256, out_features=1, bias=True)\n",
      "  (1): ReLU()\n",
      ")\n",
      "Linear(in_features=256, out_features=1, bias=True)\n",
      "ReLU()\n"
     ]
    }
   ],
   "source": [
    "for p in net.get():\n",
    "    print(p)"
   ]
  },
  {
   "cell_type": "code",
   "execution_count": 1,
   "metadata": {},
   "outputs": [
    {
     "name": "stdout",
     "output_type": "stream",
     "text": [
      "Sun Oct 13 19:11:55 2019       \r\n",
      "+-----------------------------------------------------------------------------+\r\n",
      "| NVIDIA-SMI 415.27       Driver Version: 415.27       CUDA Version: 10.0     |\r\n",
      "|-------------------------------+----------------------+----------------------+\r\n",
      "| GPU  Name        Persistence-M| Bus-Id        Disp.A | Volatile Uncorr. ECC |\r\n",
      "| Fan  Temp  Perf  Pwr:Usage/Cap|         Memory-Usage | GPU-Util  Compute M. |\r\n",
      "|===============================+======================+======================|\r\n",
      "|   0  GeForce GTX 960M    Off  | 00000000:02:00.0 Off |                  N/A |\r\n",
      "| N/A   59C    P0    N/A /  N/A |    668MiB /  4046MiB |      1%      Default |\r\n",
      "+-------------------------------+----------------------+----------------------+\r\n",
      "                                                                               \r\n",
      "+-----------------------------------------------------------------------------+\r\n",
      "| Processes:                                                       GPU Memory |\r\n",
      "|  GPU       PID   Type   Process name                             Usage      |\r\n",
      "|=============================================================================|\r\n",
      "|    0      1835      G   /usr/lib/xorg/Xorg                           215MiB |\r\n",
      "|    0      1995      G   /usr/bin/gnome-shell                         101MiB |\r\n",
      "|    0      2593      G   ...uest-channel-token=13615059584615248338   249MiB |\r\n",
      "|    0     11211      G   ...-token=17E1C5645F885DA175433BAAE533A076    60MiB |\r\n",
      "|    0     16169      G   ...quest-channel-token=5235495120577683016    37MiB |\r\n",
      "+-----------------------------------------------------------------------------+\r\n"
     ]
    }
   ],
   "source": [
    "! nvidia-smi"
   ]
  },
  {
   "cell_type": "code",
   "execution_count": null,
   "metadata": {},
   "outputs": [],
   "source": []
  },
  {
   "cell_type": "code",
   "execution_count": null,
   "metadata": {},
   "outputs": [],
   "source": []
  }
 ],
 "metadata": {
  "kernelspec": {
   "display_name": "Python 3",
   "language": "python",
   "name": "python3"
  },
  "language_info": {
   "codemirror_mode": {
    "name": "ipython",
    "version": 3
   },
   "file_extension": ".py",
   "mimetype": "text/x-python",
   "name": "python",
   "nbconvert_exporter": "python",
   "pygments_lexer": "ipython3",
   "version": "3.6.8"
  },
  "latex_envs": {
   "LaTeX_envs_menu_present": true,
   "autoclose": false,
   "autocomplete": true,
   "bibliofile": "biblio.bib",
   "cite_by": "apalike",
   "current_citInitial": 1,
   "eqLabelWithNumbers": true,
   "eqNumInitial": 1,
   "hotkeys": {
    "equation": "Ctrl-E",
    "itemize": "Ctrl-I"
   },
   "labels_anchors": false,
   "latex_user_defs": false,
   "report_style_numbering": false,
   "user_envs_cfg": false
  },
  "toc": {
   "base_numbering": 1,
   "nav_menu": {},
   "number_sections": true,
   "sideBar": true,
   "skip_h1_title": false,
   "title_cell": "Table of Contents",
   "title_sidebar": "Contents",
   "toc_cell": false,
   "toc_position": {},
   "toc_section_display": true,
   "toc_window_display": false
  }
 },
 "nbformat": 4,
 "nbformat_minor": 2
}
